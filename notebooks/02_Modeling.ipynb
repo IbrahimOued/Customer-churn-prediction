{
 "cells": [
  {
   "cell_type": "code",
   "execution_count": 1,
   "id": "8b08d280",
   "metadata": {},
   "outputs": [],
   "source": [
    "# 02_Modeling.ipynb\n",
    "import pandas as pd\n",
    "import numpy as np\n",
    "from sklearn.model_selection import train_test_split\n",
    "from sklearn.preprocessing import StandardScaler\n",
    "from sklearn.metrics import classification_report, confusion_matrix, roc_auc_score\n",
    "from sklearn.linear_model import LogisticRegression\n",
    "from sklearn.ensemble import RandomForestClassifier\n",
    "from xgboost import XGBClassifier\n",
    "import joblib\n",
    "import mlflow"
   ]
  },
  {
   "cell_type": "code",
   "execution_count": 2,
   "id": "c69bc579",
   "metadata": {},
   "outputs": [
    {
     "name": "stdout",
     "output_type": "stream",
     "text": [
      "✅ Cleaned data saved to ../data/cleaned_telco_data.csv\n"
     ]
    }
   ],
   "source": [
    "# 📥 Load Raw Dataset\n",
    "df = pd.read_csv(\"../datasets/Telco-Customer-Churn.csv\")\n",
    "\n",
    "# 🧹 Data Cleaning\n",
    "df.replace(\" \", np.nan, inplace=True)\n",
    "df.dropna(inplace=True)\n",
    "\n",
    "# 🔄 Convert TotalCharges to numeric\n",
    "df['TotalCharges'] = df['TotalCharges'].astype(float)\n",
    "\n",
    "# 🎯 Encode target\n",
    "df['Churn'] = df['Churn'].map({'Yes': 1, 'No': 0})\n",
    "\n",
    "# 🛠️ Drop customerID (not predictive)\n",
    "df.drop('customerID', axis=1, inplace=True)\n",
    "\n",
    "# 🔁 Encode categorical variables\n",
    "cat_cols = df.select_dtypes(include='object').columns\n",
    "df_encoded = pd.get_dummies(df, columns=cat_cols, drop_first=True)\n",
    "\n",
    "# 💾 Save cleaned data\n",
    "df_encoded.to_csv(\"../datasets/cleaned_telco_data.csv\", index=False)\n",
    "\n",
    "print(\"✅ Cleaned data saved to ../data/cleaned_telco_data.csv\")"
   ]
  },
  {
   "cell_type": "code",
   "execution_count": 3,
   "id": "57e47cb5",
   "metadata": {},
   "outputs": [
    {
     "name": "stdout",
     "output_type": "stream",
     "text": [
      "Shape after loading: (7032, 31)\n",
      "Unique values in 'Churn' before mapping:\n",
      "[0 1]\n",
      "\n",
      "Final X shape before split: (7032, 30)\n",
      "Final y shape before split: (7032,)\n"
     ]
    }
   ],
   "source": [
    "# 📦 Load Data\n",
    "try:\n",
    "    df = pd.read_csv(\"../datasets/cleaned_telco_data.csv\")\n",
    "    print(f\"Shape after loading: {df.shape}\")\n",
    "except FileNotFoundError:\n",
    "    print(\"Error: The CSV file was not found. Please check the path: ../datasets/cleaned_telco_data.csv\")\n",
    "    exit() # Exit if the file isn't found, as there's no data to process\n",
    "\n",
    "if df.empty:\n",
    "    print(\"Error: The DataFrame is empty immediately after reading the CSV. The CSV might be empty or corrupted.\")\n",
    "    exit()\n",
    "\n",
    "# 🎯 Encode Target and handle NaNs\n",
    "# Inspect unique values to catch unexpected entries\n",
    "print(\"Unique values in 'Churn' before mapping:\")\n",
    "print(df['Churn'].unique()) # Uncomment to inspect\n",
    "\n",
    "\n",
    "# Separate features (X) and target (y)\n",
    "X = df.drop(columns=['Churn'])\n",
    "y = df['Churn']\n",
    "\n",
    "print(f\"\\nFinal X shape before split: {X.shape}\")\n",
    "print(f\"Final y shape before split: {y.shape}\")"
   ]
  },
  {
   "cell_type": "code",
   "execution_count": 4,
   "id": "1b5d0aaf",
   "metadata": {},
   "outputs": [
    {
     "name": "stdout",
     "output_type": "stream",
     "text": [
      "\n",
      "---\n",
      "Data Split Successful!\n",
      "X_train shape: (5625, 30)\n",
      "X_test shape: (1407, 30)\n",
      "y_train shape: (5625,)\n",
      "y_test shape: (1407,)\n",
      "---\n"
     ]
    }
   ],
   "source": [
    "# 🔄 Train/Test Split\n",
    "# Crucial check: Is X empty? Is y empty?\n",
    "if X.empty or y.empty:\n",
    "    print(\"Error: X or y is empty before train_test_split. This means all your data was lost during previous processing steps.\")\n",
    "    print(\"Please review the 'Shape after...' print statements above to identify where the data was lost.\")\n",
    "else:\n",
    "    # ✨ Split the data into training and testing sets\n",
    "    X_train, X_test, y_train, y_test = train_test_split(X, y, test_size=0.2, random_state=42)\n",
    "\n",
    "    # Verify the shapes of your new datasets\n",
    "    print(\"\\n---\")\n",
    "    print(\"Data Split Successful!\")\n",
    "    print(f\"X_train shape: {X_train.shape}\")\n",
    "    print(f\"X_test shape: {X_test.shape}\")\n",
    "    print(f\"y_train shape: {y_train.shape}\")\n",
    "    print(f\"y_test shape: {y_test.shape}\")\n",
    "    print(\"---\")\n",
    "\n",
    "    # 🧪 Scale Features\n",
    "    scaler = StandardScaler()\n",
    "    X_train_scaled = scaler.fit_transform(X_train)\n",
    "    X_test_scaled = scaler.transform(X_test)\n",
    "\n",
    "    joblib.dump(scaler, \"../scripts/scaler.joblib\")"
   ]
  },
  {
   "cell_type": "code",
   "execution_count": 5,
   "id": "3125a66f",
   "metadata": {},
   "outputs": [
    {
     "name": "stderr",
     "output_type": "stream",
     "text": [
      "/home/ibrahim/documents/predicting-customer-churn/.venv/lib/python3.12/site-packages/mlflow/types/utils.py:452: UserWarning: Hint: Inferred schema contains integer column(s). Integer columns in Python cannot represent missing values. If your input data contains missing values at inference time, it will be encoded as floats and will cause a schema enforcement error. The best way to avoid this problem is to infer the model schema based on a realistic data sample (training dataset) that includes missing values. Alternatively, you can declare integer columns as doubles (float64) whenever these columns may have missing values. See `Handling Integers With Missing Values <https://www.mlflow.org/docs/latest/models.html#handling-integers-with-missing-values>`_ for more details.\n",
      "  warnings.warn(\n",
      "/home/ibrahim/documents/predicting-customer-churn/.venv/lib/python3.12/site-packages/sklearn/utils/validation.py:2732: UserWarning: X has feature names, but LogisticRegression was fitted without feature names\n",
      "  warnings.warn(\n",
      "/home/ibrahim/documents/predicting-customer-churn/.venv/lib/python3.12/site-packages/mlflow/types/utils.py:452: UserWarning: Hint: Inferred schema contains integer column(s). Integer columns in Python cannot represent missing values. If your input data contains missing values at inference time, it will be encoded as floats and will cause a schema enforcement error. The best way to avoid this problem is to infer the model schema based on a realistic data sample (training dataset) that includes missing values. Alternatively, you can declare integer columns as doubles (float64) whenever these columns may have missing values. See `Handling Integers With Missing Values <https://www.mlflow.org/docs/latest/models.html#handling-integers-with-missing-values>`_ for more details.\n",
      "  warnings.warn(\n",
      "2025/05/26 09:15:15 WARNING mlflow.utils.environment: Failed to resolve installed pip version. ``pip`` will be added to conda.yaml environment spec without a version specifier.\n",
      "/home/ibrahim/documents/predicting-customer-churn/.venv/lib/python3.12/site-packages/sklearn/utils/validation.py:2732: UserWarning: X has feature names, but LogisticRegression was fitted without feature names\n",
      "  warnings.warn(\n"
     ]
    },
    {
     "name": "stdout",
     "output_type": "stream",
     "text": [
      "LogisticRegression Classification Report:\n",
      "               precision    recall  f1-score   support\n",
      "\n",
      "           0       0.83      0.89      0.86      1033\n",
      "           1       0.62      0.52      0.56       374\n",
      "\n",
      "    accuracy                           0.79      1407\n",
      "   macro avg       0.73      0.70      0.71      1407\n",
      "weighted avg       0.78      0.79      0.78      1407\n",
      "\n"
     ]
    },
    {
     "name": "stderr",
     "output_type": "stream",
     "text": [
      "/home/ibrahim/documents/predicting-customer-churn/.venv/lib/python3.12/site-packages/mlflow/types/utils.py:452: UserWarning: Hint: Inferred schema contains integer column(s). Integer columns in Python cannot represent missing values. If your input data contains missing values at inference time, it will be encoded as floats and will cause a schema enforcement error. The best way to avoid this problem is to infer the model schema based on a realistic data sample (training dataset) that includes missing values. Alternatively, you can declare integer columns as doubles (float64) whenever these columns may have missing values. See `Handling Integers With Missing Values <https://www.mlflow.org/docs/latest/models.html#handling-integers-with-missing-values>`_ for more details.\n",
      "  warnings.warn(\n",
      "/home/ibrahim/documents/predicting-customer-churn/.venv/lib/python3.12/site-packages/sklearn/utils/validation.py:2732: UserWarning: X has feature names, but RandomForestClassifier was fitted without feature names\n",
      "  warnings.warn(\n",
      "/home/ibrahim/documents/predicting-customer-churn/.venv/lib/python3.12/site-packages/mlflow/types/utils.py:452: UserWarning: Hint: Inferred schema contains integer column(s). Integer columns in Python cannot represent missing values. If your input data contains missing values at inference time, it will be encoded as floats and will cause a schema enforcement error. The best way to avoid this problem is to infer the model schema based on a realistic data sample (training dataset) that includes missing values. Alternatively, you can declare integer columns as doubles (float64) whenever these columns may have missing values. See `Handling Integers With Missing Values <https://www.mlflow.org/docs/latest/models.html#handling-integers-with-missing-values>`_ for more details.\n",
      "  warnings.warn(\n",
      "2025/05/26 09:15:25 WARNING mlflow.utils.environment: Failed to resolve installed pip version. ``pip`` will be added to conda.yaml environment spec without a version specifier.\n",
      "/home/ibrahim/documents/predicting-customer-churn/.venv/lib/python3.12/site-packages/sklearn/utils/validation.py:2732: UserWarning: X has feature names, but RandomForestClassifier was fitted without feature names\n",
      "  warnings.warn(\n"
     ]
    },
    {
     "name": "stdout",
     "output_type": "stream",
     "text": [
      "RandomForest Classification Report:\n",
      "               precision    recall  f1-score   support\n",
      "\n",
      "           0       0.83      0.90      0.86      1033\n",
      "           1       0.63      0.49      0.55       374\n",
      "\n",
      "    accuracy                           0.79      1407\n",
      "   macro avg       0.73      0.69      0.71      1407\n",
      "weighted avg       0.78      0.79      0.78      1407\n",
      "\n"
     ]
    },
    {
     "name": "stderr",
     "output_type": "stream",
     "text": [
      "/home/ibrahim/documents/predicting-customer-churn/.venv/lib/python3.12/site-packages/xgboost/training.py:183: UserWarning: [09:15:26] WARNING: /workspace/src/learner.cc:738: \n",
      "Parameters: { \"use_label_encoder\" } are not used.\n",
      "\n",
      "  bst.update(dtrain, iteration=i, fobj=obj)\n",
      "/home/ibrahim/documents/predicting-customer-churn/.venv/lib/python3.12/site-packages/mlflow/types/utils.py:452: UserWarning: Hint: Inferred schema contains integer column(s). Integer columns in Python cannot represent missing values. If your input data contains missing values at inference time, it will be encoded as floats and will cause a schema enforcement error. The best way to avoid this problem is to infer the model schema based on a realistic data sample (training dataset) that includes missing values. Alternatively, you can declare integer columns as doubles (float64) whenever these columns may have missing values. See `Handling Integers With Missing Values <https://www.mlflow.org/docs/latest/models.html#handling-integers-with-missing-values>`_ for more details.\n",
      "  warnings.warn(\n",
      "/home/ibrahim/documents/predicting-customer-churn/.venv/lib/python3.12/site-packages/mlflow/types/utils.py:452: UserWarning: Hint: Inferred schema contains integer column(s). Integer columns in Python cannot represent missing values. If your input data contains missing values at inference time, it will be encoded as floats and will cause a schema enforcement error. The best way to avoid this problem is to infer the model schema based on a realistic data sample (training dataset) that includes missing values. Alternatively, you can declare integer columns as doubles (float64) whenever these columns may have missing values. See `Handling Integers With Missing Values <https://www.mlflow.org/docs/latest/models.html#handling-integers-with-missing-values>`_ for more details.\n",
      "  warnings.warn(\n",
      "2025/05/26 09:15:32 WARNING mlflow.utils.environment: Failed to resolve installed pip version. ``pip`` will be added to conda.yaml environment spec without a version specifier.\n"
     ]
    },
    {
     "name": "stdout",
     "output_type": "stream",
     "text": [
      "XGBoost Classification Report:\n",
      "               precision    recall  f1-score   support\n",
      "\n",
      "           0       0.83      0.87      0.85      1033\n",
      "           1       0.59      0.50      0.54       374\n",
      "\n",
      "    accuracy                           0.77      1407\n",
      "   macro avg       0.71      0.69      0.69      1407\n",
      "weighted avg       0.76      0.77      0.77      1407\n",
      "\n",
      "\n",
      "✅ Best Model: LogisticRegression with ROC-AUC: 0.8319\n",
      "Best model saved and run ID for API: 2cdd9c4172304a00a75af83213c42227\n"
     ]
    }
   ],
   "source": [
    "# 🚀 Initialize MLflow\n",
    "mlflow.set_experiment(\"Telco Churn Prediction\")\n",
    "# mlflow.set_tracking_uri(\"http://localhost\")  # Adjust if using a different MLflow server\n",
    "\n",
    "best_score = 0\n",
    "best_model = None\n",
    "best_model_name = \"\"\n",
    "\n",
    "# 📌 Model Candidates\n",
    "models = {\n",
    "    \"LogisticRegression\": LogisticRegression(max_iter=1000),\n",
    "    \"RandomForest\": RandomForestClassifier(n_estimators=100),\n",
    "    \"XGBoost\": XGBClassifier(use_label_encoder=False, eval_metric='logloss')\n",
    "}\n",
    "\n",
    "for name, model in models.items():\n",
    "    with mlflow.start_run(run_name=name):\n",
    "        model.fit(X_train_scaled, y_train)\n",
    "        y_pred = model.predict(X_test_scaled)\n",
    "        y_proba = model.predict_proba(X_test_scaled)[:, 1]\n",
    "\n",
    "        acc = model.score(X_test_scaled, y_test)\n",
    "        roc = roc_auc_score(y_test, y_proba)\n",
    "\n",
    "        mlflow.log_metric(\"accuracy\", acc)\n",
    "        mlflow.log_metric(\"roc_auc\", roc)\n",
    "        mlflow.log_params(model.get_params())\n",
    "        mlflow.sklearn.log_model(model, \"model\", input_example=X_train.head(1))\n",
    "\n",
    "        print(f\"{name} Classification Report:\\n\", classification_report(y_test, y_pred))\n",
    "\n",
    "        if roc > best_score:\n",
    "            best_score = roc\n",
    "            best_model = model\n",
    "            best_model_name = name\n",
    "            best_run_id = mlflow.active_run().info.run_id\n",
    "\n",
    "print(f\"\\n✅ Best Model: {best_model_name} with ROC-AUC: {best_score:.4f}\")\n",
    "joblib.dump(best_model, \"../scripts/best_churn_model.joblib\")\n",
    "\n",
    "print(f\"Best model saved and run ID for API: {best_run_id}\")"
   ]
  }
 ],
 "metadata": {
  "kernelspec": {
   "display_name": ".venv",
   "language": "python",
   "name": "python3"
  },
  "language_info": {
   "codemirror_mode": {
    "name": "ipython",
    "version": 3
   },
   "file_extension": ".py",
   "mimetype": "text/x-python",
   "name": "python",
   "nbconvert_exporter": "python",
   "pygments_lexer": "ipython3",
   "version": "3.12.10"
  }
 },
 "nbformat": 4,
 "nbformat_minor": 5
}
